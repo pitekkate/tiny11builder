# %% [markdown]
"""
# Tiny11 Builder - Google Colab Version

Script ini mengotomatisasi proses pembuatan Windows ISO dari UUP Dump, diadaptasi dari [tiny11builder](https://github.com/pitekkate/tiny11builder).

**Langkah-langkah:**
1. Jalankan semua sel secara berurutan
2. Masukkan URL UUP Dump saat diminta
3. Tunggu proses selesai
4. Download ISO yang dihasilkan

**Catatan:**
- Proses ini membutuhkan waktu (bisa lebih dari 1 jam)
- Google Colab mungkin memutus koneksi setelah waktu tertentu, pertimbangkan untuk menggunakan runtime dengan GPU/TPU
"""

# %% [markdown]
"""
## Persyaratan Awal
"""

# %%
# Install dependensi
!sudo apt-get update
!sudo apt-get install -y wimtools cabextract genisoimage python3-pip aria2

# Install uup-download
!pip install uup-download

# %% [markdown]
"""
## Konfigurasi Build
"""

# %%
# Input URL UUP Dump
uup_url = input("Masukkan URL UUP Dump: ").strip()

# Konfigurasi tambahan
remove_apps = True  # Hapus aplikasi bawaan Windows
create_iso = True   # Buat file ISO
skip_updates = True # Lewati pembaruan

# %% [markdown]
"""
## Download dan Ekstraksi UUP Files
"""

# %%
import os
import subprocess
from datetime import datetime

# Buat direktori kerja
work_dir = "/content/tiny11builder"
os.makedirs(work_dir, exist_ok=True)
os.chdir(work_dir)

print(f"[{datetime.now().strftime('%H:%M:%S')}] Memulai proses di {work_dir}...")

# Download file UUP
!uup-download -y {uup_url}

# %% [markdown]
"""
## Persiapan Build ISO
"""

# %%
# Cari file scripts
script_files = [f for f in os.listdir() if f.endswith('.sh')]
if not script_files:
    raise FileNotFoundError("Tidak menemukan script build di file UUP")

build_script = script_files[0]
print(f"[{datetime.now().strftime('%H:%M:%S')}] Menggunakan script: {build_script}")

# Modifikasi script untuk opsi tiny11
if remove_apps:
    !sed -i 's/REMOVE_APPS=.*/REMOVE_APPS="true"/g' {build_script}
if skip_updates:
    !sed -i 's/SKIP_UPDATES=.*/SKIP_UPDATES="true"/g' {build_script}
if create_iso:
    !sed -i 's/CREATE_ISO=.*/CREATE_ISO="true"/g' {build_script}

# Berikan izin eksekusi
!chmod +x {build_script}

# %% [markdown]
"""
## Proses Build ISO
"""

# %%
print(f"[{datetime.now().strftime('%H:%M:%S')}] Memulai proses build...")

# Jalankan script build
process = subprocess.Popen(f"./{build_script}", shell=True, stdout=subprocess.PIPE, stderr=subprocess.STDOUT, text=True)

# Tampilkan output real-time
for line in process.stdout:
    print(line, end='')

process.wait()

# %% [markdown]
"""
## Hasil Build
"""

# %%
# Cari file ISO yang dihasilkan
iso_files = [f for f in os.listdir() if f.endswith('.iso')]
if not iso_files:
    raise FileNotFoundError("Build gagal - tidak ada file ISO yang dihasilkan")

output_iso = iso_files[0]
print(f"[{datetime.now().strftime('%H:%M:%S')}] Build selesai! File ISO: {output_iso}")

# Tautan download
from google.colab import files
print("\nKlik kanan link di bawah untuk mendownload:")
print(f" - /content/tiny11builder/{output_iso}")

# Alternatif: uncomment untuk download otomatis
# files.download(f"{work_dir}/{output_iso}")
